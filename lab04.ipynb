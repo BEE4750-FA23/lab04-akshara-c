{
  "cells": [
    {
      "cell_type": "markdown",
      "id": "37acac57-15ea-4127-89b3-fcd589600cfd",
      "metadata": {},
      "source": [
        "# BEE 4750 Lab 4: Simulation-Optimization\n",
        "\n",
        "**Name**: Akshara Chandrabalan\n",
        "\n",
        "**ID**: ac2837\n",
        "\n",
        "> **Due Date**\n",
        ">\n",
        "> Friday, 11/17/23, 9:00pm\n",
        "\n",
        "## Setup\n",
        "\n",
        "The following code should go at the top of most Julia scripts; it will\n",
        "load the local package environment and install any needed packages. You\n",
        "will see this often and shouldn’t need to touch it."
      ]
    },
    {
      "cell_type": "code",
      "execution_count": 1,
      "id": "5e950439",
      "metadata": {},
      "outputs": [
        {
          "name": "stderr",
          "output_type": "stream",
          "text": [
            "\u001b[32m\u001b[1m  Activating\u001b[22m\u001b[39m project at `~/Documents/BEE 5750 /lab04-akshara-c`\n"
          ]
        }
      ],
      "source": [
        "import Pkg\n",
        "Pkg.activate(\".\")\n",
        "Pkg.instantiate()"
      ]
    },
    {
      "cell_type": "code",
      "execution_count": 2,
      "id": "feac28f5",
      "metadata": {},
      "outputs": [],
      "source": [
        "using Random # for random seeds\n",
        "using Distributions # statistical distribution interface\n",
        "using Roots # find zeros of functions\n",
        "using Metaheuristics # search algorithms\n",
        "using Plots # plotting"
      ]
    },
    {
      "cell_type": "markdown",
      "id": "675b9be5-2dbb-4360-be20-7a61db934a9d",
      "metadata": {},
      "source": [
        "## Overview\n",
        "\n",
        "In this lab, you will experiment with simulation-optimization with the\n",
        "shallow lake problem. The goal of this experimentation is to get an\n",
        "understanding of how to work with simulation-optimization methods and\n",
        "the impact of some choices involved in using these methods.\n",
        "\n",
        "Free free to delete some of the illustrative cells and code blocks in\n",
        "your notebook as you go through and solve the lab problems…this might\n",
        "help reduce some potential confusion while grading about what your\n",
        "answer is."
      ]
    },
    {
      "cell_type": "markdown",
      "id": "e24bbd67-63e0-4262-8d83-ae192828e478",
      "metadata": {},
      "source": [
        "## Introduction\n",
        "\n",
        "Due to ongoing economic activity, a town emits phosphorous into a\n",
        "shallow lake (with a concentration of $a_t$), which also receives\n",
        "non-point source runoff (concentration $y_t$) from the surrounding area.\n",
        "The concentration of the lake at time $t+1$ is given by\n",
        "$$X_{t+1} = X_t + a_t + y_t + \\frac{X_t^q}{1+X_t^q} - bX_t,$$\n",
        "\n",
        "where:\n",
        "\n",
        "| Parameter | Value                                                |\n",
        "|:---------:|:-----------------------------------------------------|\n",
        "|   $a_t$   | point-source phosphorous concentration from the town |\n",
        "|   $y_t$   | non-point-source phosphorous concentration           |\n",
        "|    $q$    | rate at which phosphorous is recycled from sediment  |\n",
        "|    $b$    | rate at which phosphorous leaves the lake            |\n",
        "\n",
        "and $X_0 = 0$, $y_t \\sim LogNormal(\\log(0.03), 0.25)$, $q=2.5$, and\n",
        "$b=0.4$.\n",
        "\n",
        "The goal of the optimization is to maximize the town’s average\n",
        "phosphorous concentration releases (as a proxy of economic activity):\n",
        "$\\max \\sum_{t=1}^T a_t / T$ over a 100-year period. We have decided\n",
        "(initially) that an acceptable solution is one which will result in the\n",
        "lake eutrophying no more than 10% of the time.\n",
        "\n",
        "The non-point source samples can be sampled using the following code\n",
        "block:"
      ]
    },
    {
      "cell_type": "code",
      "execution_count": 5,
      "id": "02dbd8b1",
      "metadata": {},
      "outputs": [
        {
          "data": {
            "text/plain": [
              "100×1000 Matrix{Float64}:\n",
              " 0.0294753  0.0459864  0.023513   …  0.0259183  0.0260934  0.0284652\n",
              " 0.034263   0.0222782  0.0459188     0.0288482  0.0480454  0.0531018\n",
              " 0.0245199  0.0296271  0.0445619     0.0246404  0.0250734  0.0304308\n",
              " 0.055448   0.0312     0.0228208     0.0298609  0.0428105  0.0256198\n",
              " 0.0401417  0.024978   0.0458244     0.0228935  0.0286062  0.0238694\n",
              " 0.0320754  0.021759   0.0471452  …  0.0472771  0.0187508  0.0306753\n",
              " 0.0464641  0.0416385  0.0246833     0.0382252  0.0288505  0.0226561\n",
              " 0.0244027  0.0432707  0.0341214     0.0238988  0.0427204  0.0316143\n",
              " 0.0231156  0.0279197  0.0217747     0.0231772  0.0335662  0.0324465\n",
              " 0.0276303  0.0305858  0.0440326     0.0289394  0.0312328  0.0173388\n",
              " ⋮                                ⋱                        \n",
              " 0.025665   0.0341366  0.0274747     0.0283546  0.0458031  0.0277959\n",
              " 0.0405629  0.0421121  0.0252557     0.0450377  0.0284411  0.0206434\n",
              " 0.0228445  0.0223746  0.0210942     0.0442834  0.0337672  0.0287835\n",
              " 0.0252604  0.0462868  0.0358435     0.0146043  0.023085   0.0240258\n",
              " 0.0237704  0.0378816  0.0291353  …  0.0442565  0.0326019  0.021258\n",
              " 0.0335883  0.0218181  0.0331417     0.0510932  0.0366858  0.0296993\n",
              " 0.0312679  0.0187135  0.0534007     0.0451143  0.026161   0.0183542\n",
              " 0.0382682  0.0310429  0.0296539     0.0471901  0.0283451  0.0219015\n",
              " 0.0256315  0.0232021  0.0239607     0.0350929  0.0293862  0.0348934"
            ]
          },
          "metadata": {},
          "output_type": "display_data"
        }
      ],
      "source": [
        "Random.seed!(1)\n",
        "\n",
        "T = 100 # length of simualtion\n",
        "n_samples = 1000 # replace with number of samples if you experiment\n",
        "\n",
        "P_distribution = LogNormal(log(0.03), 0.25)\n",
        "y = rand(P_distribution, (T, n_samples)) # sample a T x n_samples matrix\n"
      ]
    },
    {
      "cell_type": "markdown",
      "id": "015c657d-3cae-40a2-aed4-604dd99bbc73",
      "metadata": {},
      "source": [
        "We write the lake model as a function:"
      ]
    },
    {
      "cell_type": "code",
      "execution_count": 6,
      "id": "20780fdf",
      "metadata": {},
      "outputs": [
        {
          "data": {
            "text/plain": [
              "lake (generic function with 1 method)"
            ]
          },
          "metadata": {},
          "output_type": "display_data"
        }
      ],
      "source": [
        "# lake function model\n",
        "# inputs:\n",
        "#   a: vector of point-source releases (to be optimized)\n",
        "#   y: randomly-sampled non-point sources\n",
        "#   q: lake phosphorous recycling rate\n",
        "#   b: phosphorous outflow rate\n",
        "# \n",
        "# returns:\n",
        "#   series of lake phosphorous concentrations\n",
        "\n",
        "function lake(a, y, q, b, T)\n",
        "    X = zeros(T+1, size(y, 2))\n",
        "    # calculate states\n",
        "    for t = 1:T\n",
        "        X[t+1, :] = X[t, :] .+ a[t] .+ y[t, :] .+ (X[t, :].^q./(1 .+ X[t, :].^q)) .- b.*X[t, :]\n",
        "    end\n",
        "    return X\n",
        "end"
      ]
    },
    {
      "cell_type": "markdown",
      "id": "f0969559-e292-4fb7-97fc-d6782d336856",
      "metadata": {},
      "source": [
        "However, this isn’t sufficient on its own! `Metaheuristics.jl` (and most\n",
        "simulation-optimization packages) require the use of a *wrapper*\n",
        "function, which accepts as inputs both parameters to be optimized (in\n",
        "this case, point-source releases `a`) and parameters which will be fixed\n",
        "(the others; see below for how to incorporate these into the syntax) and\n",
        "returns the required information for the optimization procedure.\n",
        "\n",
        "`Metaheuristics.jl` wants its optimizing wrapper function to return (in\n",
        "order):\n",
        "\n",
        "-   the objective(s) (in this case, the mean of `a`, $\\sum_t a_t / T$),\n",
        "-   a vector of the degrees to which the solution fails to achieve any\n",
        "    inequality constraints (positive values indicate a larger failure,\n",
        "    values below zero are considered acceptable)\n",
        "-   a vector of the degrees to which the solution fails to achieve any\n",
        "    equality constraints (only values of zero indicate success), which\n",
        "    in this case is not relevant, so we just return `[0.0]`."
      ]
    },
    {
      "cell_type": "code",
      "execution_count": 7,
      "id": "123470aa",
      "metadata": {},
      "outputs": [
        {
          "data": {
            "text/plain": [
              "lake_opt (generic function with 1 method)"
            ]
          },
          "metadata": {},
          "output_type": "display_data"
        }
      ],
      "source": [
        "# function producing optimization outputs\n",
        "# inputs:\n",
        "#   a: vector of point-source releases (to be optimized)\n",
        "#   y: randomly-sampled non-point sources\n",
        "#   q: lake phosphorous recycling rate\n",
        "#   b: phosphorous outflow rate\n",
        "# \n",
        "# returns:\n",
        "#   - objective: mean value of point-source releases\n",
        "#   - inequality constraint failure vector\n",
        "#   - equality constraint failure vector (in this case, always [0.0])\n",
        "\n",
        "function lake_opt(a, y, q, b, T, Xcrit)\n",
        "    X = lake(a, y, q, b, T)\n",
        "    # calculate exceedance of critical value\n",
        "    Pexceed = sum(X[T+1, :] .> Xcrit) / size(X, 2) # proportion of values in the last row of X that exceed the critical value\n",
        "    failconst = [Pexceed - 0.1] # replace 0.1 if you experiment with the failure probability\n",
        "    return mean(a), failconst, [0.0]\n",
        "end\n"
      ]
    },
    {
      "cell_type": "markdown",
      "id": "f6e90369-d38f-432d-807a-49e680fe5e57",
      "metadata": {},
      "source": [
        "To optimize using DE (differential evolution), use the following syntax:\n",
        "\n",
        "``` julia\n",
        "results = optimize(f, bounds, DE(options=Options(f_calls_limit=max_evals)))\n",
        "```\n",
        "\n",
        "where `bounds` is a `Matrix` of lower bounds (first row) and upper\n",
        "bounds (last row), and `max_evals` is an integer for the maximum number\n",
        "of evaluations.\n",
        "\n",
        "-   For example, to set bounds for all decision variables between 0 and\n",
        "    0.5, you can use\n",
        "\n",
        "``` julia\n",
        "bounds = [zeros(T) 0.5ones(T)]'\n",
        "```\n",
        "\n",
        "-   Increasing `max_evals` can help you find a better solution, but at a\n",
        "    larger computational expense.\n",
        "-   You can use an anonymous function to fix values for non-optimized\n",
        "    parameters, *e.g.*\n",
        "\n",
        "``` julia\n",
        "y = ...\n",
        "q = ...\n",
        "b = ...\n",
        "T = ...\n",
        "Xcrit = ...\n",
        "results = optimize(a -> lake_opt(a, y, q, b, t, Xcrit), bounds, DE(options=Options(f_calls_limit=max_evals)))\n",
        "```\n",
        "\n",
        "Then to get the approximated minimum value:\n",
        "\n",
        "``` julia\n",
        "fx = minimum(result)\n",
        "```\n",
        "\n",
        "and the approximated minimizing value:\n",
        "\n",
        "``` julia\n",
        "x = minimizer(result)\n",
        "```\n",
        "\n",
        "The last piece is to get the critical value (to identify failures),\n",
        "which we can do using `Roots.jl`, which finds zeros of functions:"
      ]
    },
    {
      "cell_type": "code",
      "execution_count": 15,
      "id": "8241d3ef",
      "metadata": {},
      "outputs": [],
      "source": [
        "q = 2.5\n",
        "b = 0.4\n",
        "\n",
        "# define a function whose zeros are the critical values\n",
        "P_flux(x) = (x^q/(1+x^q)) - b*x # P flux as a function of P concentration (x) \n",
        "\n",
        "# use Roots.find_zero() to find the non-eutrophication and non-zero critical value; \n",
        "# we know from visual inspection in class that this is bounded between 0.1 and 1.5.\n",
        "Xcrit = find_zero(P_flux, (0.1, 1.5)); # Xcrit is the threshold \n"
      ]
    },
    {
      "cell_type": "markdown",
      "id": "2a2a9a6c-0a6f-484a-9996-ad9987bc3193",
      "metadata": {},
      "source": [
        "## Problems\n",
        "\n",
        "### Problem 1 (2 points)\n",
        "\n",
        "Using the default setup above, find the approximate optimum value. What\n",
        "is the value of the objective function, and how many failures (you can\n",
        "evaluate the `lake` function using your solution to find how many\n",
        "end-values are above the critical value)."
      ]
    },
    {
      "cell_type": "code",
      "execution_count": 39,
      "metadata": {},
      "outputs": [
        {
          "data": {
            "text/html": [
              "<pre>\n",
              "Optimization Result\n",
              "===================\n",
              "  Iteration:       1\n",
              "  Minimum:         0.198871\n",
              "  Minimizer:       [0.120495, 0.162949, 0.218994, …, 0.292089]\n",
              "  Function calls:  1000\n",
              "  Feasibles:       0 / 1000 in final population\n",
              "  Total time:      13.0924 s\n",
              "  Stop reason:     Maximum objective function calls exceeded.\n",
              "</pre>\n"
            ],
            "text/plain": [
              "\u001b[34m\u001b[1mOptimization Result\u001b[22m\u001b[39m\n",
              "\u001b[39m===================\u001b[39m\n",
              "  Iteration:       1\n",
              "  Minimum:         0.198871\n",
              "  Minimizer:       [0.120495, 0.162949, 0.218994, …, 0.292089]\n",
              "  Function calls:  1000\n",
              "  Feasibles:       0 / 1000 in final population\n",
              "  Total time:      13.0924 s\n",
              "  Stop reason:     Maximum objective function calls exceeded.\n"
            ]
          },
          "metadata": {},
          "output_type": "display_data"
        }
      ],
      "source": [
        "# default setup\n",
        "max_evals = 1000\n",
        "bounds = [zeros(T) 0.5ones(T)]' # using default values given above \n",
        "\n",
        "# non-optimized parameters \n",
        "q = 2.5\n",
        "b = 0.4\n",
        "T = 100\n",
        "n_samples = 1000\n",
        "y = rand(P_distribution, (T, n_samples)) \n",
        "\n",
        "Xcrit = find_zero(P_flux, (0.1, 1.5));\n",
        "\n",
        "# calling optimizer - objective to maximize a \n",
        "results = optimize(a -> lake_opt(a, y, q, b, T, Xcrit), bounds, \n",
        "    DE(options=Options(f_calls_limit=max_evals)))\n"
      ]
    },
    {
      "cell_type": "code",
      "execution_count": 41,
      "metadata": {},
      "outputs": [
        {
          "data": {
            "text/html": [
              "<pre>\n",
              "Optimization Result\n",
              "===================\n",
              "  Iteration:       1\n",
              "  Minimum:         0.0362739\n",
              "  Minimizer:       [0.0437603, 0.00342541, 0.0542173, …, 0.0858144]\n",
              "  Function calls:  1000\n",
              "  Feasibles:       14 / 1000 in final population\n",
              "  Total time:      13.4574 s\n",
              "  Stop reason:     Maximum objective function calls exceeded.\n",
              "</pre>\n"
            ],
            "text/plain": [
              "\u001b[34m\u001b[1mOptimization Result\u001b[22m\u001b[39m\n",
              "\u001b[39m===================\u001b[39m\n",
              "  Iteration:       1\n",
              "  Minimum:         0.0362739\n",
              "  Minimizer:       [0.0437603, 0.00342541, 0.0542173, …, 0.0858144]\n",
              "  Function calls:  1000\n",
              "  Feasibles:       14 / 1000 in final population\n",
              "  Total time:      13.4574 s\n",
              "  Stop reason:     Maximum objective function calls exceeded.\n"
            ]
          },
          "metadata": {},
          "output_type": "display_data"
        }
      ],
      "source": [
        "# default setup but w/ bounds from 0-0.09\n",
        "max_evals = 1000\n",
        "bounds = [zeros(T) 0.09ones(T)]' \n",
        "\n",
        "# non-optimized parameters \n",
        "q = 2.5\n",
        "b = 0.4\n",
        "T = 100\n",
        "n_samples = 1000\n",
        "y = rand(P_distribution, (T, n_samples)) \n",
        "\n",
        "Xcrit = find_zero(P_flux, (0.1, 1.5));\n",
        "\n",
        "# calling optimizer - objective to maximize a \n",
        "results = optimize(a -> lake_opt(a, y, q, b, T, Xcrit), bounds, \n",
        "    DE(options=Options(f_calls_limit=max_evals)))"
      ]
    },
    {
      "cell_type": "code",
      "execution_count": 42,
      "metadata": {},
      "outputs": [
        {
          "name": "stdout",
          "output_type": "stream",
          "text": [
            "fails = 0\n"
          ]
        }
      ],
      "source": [
        "# evaluating `lake` function using the solution obtained above to find how many \n",
        "# end-values are above the critical value\n",
        "a = minimizer(results)\n",
        "Xt = lake(a, y, q, b, T)\n",
        "\n",
        "fails = sum(Xt[T+1, :] .> Xcrit)\n",
        "@show fails;\n"
      ]
    },
    {
      "cell_type": "markdown",
      "metadata": {},
      "source": [
        "ANSWER: Using the default setup and 1000 function calls, a feasible solution was not found. At the end of the optimization process for this run, the algorithm developed 1000 solutions, with an $a$ value of about 0.198, but none of the solutions resulted in a case where the lake was eutrophied less than 10% of the time (i.e. inequality constraints not satified). So, I ran the optimization again, but this time I restricted the value of $a$ between 0 and 0.09 (i.e. lowering the maximum possible amount of point source P that can enter the lake). Now, given this setup, the optimization algorithm finds 14 feasible solutions, where the approximate optimum value of point source P release (i.e. value of the objective function) is about 0.036. With this setup, there are 0 failures (i.e. inequality constraints were satisfied for all end-values).    "
      ]
    },
    {
      "cell_type": "markdown",
      "id": "0798aa5d-d992-4181-9d1d-8cc614e0b69a",
      "metadata": {},
      "source": [
        "### Problem 2 (5 points)\n",
        "\n",
        "Feel free to experiment with some of the degrees of freedom in finding\n",
        "the optimum value. For example:\n",
        "\n",
        "-   What failure probability are you using to characterize acceptable\n",
        "    solutions?\n",
        "-   How many Monte Carlo samples are you using?\n",
        "-   What bounds are you searching over for the releases?\n",
        "-   How many function evaluations are you using for the search?\n",
        "-   What is the impact of different [`Metaheuristics.jl`\n",
        "    algorithms](https://docs.juliahub.com/Metaheuristics/aJ70z/3.2.12/algorithms/)?\n",
        "\n",
        "Note that you might want to modify some of these together: for example,\n",
        "lower acceptable failure probabilities often require more function\n",
        "evaluations to find acceptable values, and more Monte Carlo samples\n",
        "increase computational expense, so fewer function evaluations may be\n",
        "completed in the same time.\n",
        "\n",
        "Provide a description of what you’ve modified and why. What was the new\n",
        "solution that you found? Does it satisfy the constraints?"
      ]
    },
    {
      "cell_type": "code",
      "execution_count": 47,
      "metadata": {},
      "outputs": [
        {
          "data": {
            "text/html": [
              "<pre>\n",
              "Optimization Result\n",
              "===================\n",
              "  Iteration:       1\n",
              "  Minimum:         0.0358672\n",
              "  Minimizer:       [0.0173959, 0.0405734, 0.0462566, …, 0.021412]\n",
              "  Function calls:  1000\n",
              "  Feasibles:       30 / 1000 in final population\n",
              "  Total time:      13.9826 s\n",
              "  Stop reason:     Maximum objective function calls exceeded.\n",
              "</pre>\n"
            ],
            "text/plain": [
              "\u001b[34m\u001b[1mOptimization Result\u001b[22m\u001b[39m\n",
              "\u001b[39m===================\u001b[39m\n",
              "  Iteration:       1\n",
              "  Minimum:         0.0358672\n",
              "  Minimizer:       [0.0173959, 0.0405734, 0.0462566, …, 0.021412]\n",
              "  Function calls:  1000\n",
              "  Feasibles:       30 / 1000 in final population\n",
              "  Total time:      13.9826 s\n",
              "  Stop reason:     Maximum objective function calls exceeded.\n"
            ]
          },
          "metadata": {},
          "output_type": "display_data"
        }
      ],
      "source": [
        "# default setup but with (1) bounds from 0-0.09 and\n",
        "# (2) higher failure probability of 30%\n",
        "function lake_opt(a, y, q, b, T, Xcrit)\n",
        "    X = lake(a, y, q, b, T)\n",
        "    Pexceed = sum(X[T+1, :] .> Xcrit) / size(X, 2) \n",
        "    failconst = [Pexceed - 0.3] # experimenting with failure probability = 0.3\n",
        "    return mean(a), failconst, [0.0]\n",
        "end\n",
        "\n",
        "results = optimize(a -> lake_opt(a, y, q, b, T, Xcrit), bounds, \n",
        "    DE(options=Options(f_calls_limit=max_evals)))"
      ]
    },
    {
      "cell_type": "code",
      "execution_count": 48,
      "metadata": {},
      "outputs": [
        {
          "name": "stdout",
          "output_type": "stream",
          "text": [
            "fails = 0\n"
          ]
        }
      ],
      "source": [
        "a = minimizer(results)\n",
        "Xt = lake(a, y, q, b, T)\n",
        "\n",
        "fails = sum(Xt[T+1, :] .> Xcrit)\n",
        "@show fails;"
      ]
    },
    {
      "cell_type": "code",
      "execution_count": 67,
      "metadata": {},
      "outputs": [
        {
          "data": {
            "text/html": [
              "<pre>\n",
              "Optimization Result\n",
              "===================\n",
              "  Iteration:       2\n",
              "  Minimum:         0.0316458\n",
              "  Minimizer:       [0.0257048, 0.0102361, 0.0439606, …, 0.0512995]\n",
              "  Function calls:  2000\n",
              "  Feasibles:       480 / 1000 in final population\n",
              "  Total time:      33.3373 s\n",
              "  Stop reason:     Maximum objective function calls exceeded.\n",
              "</pre>\n"
            ],
            "text/plain": [
              "\u001b[34m\u001b[1mOptimization Result\u001b[22m\u001b[39m\n",
              "\u001b[39m===================\u001b[39m\n",
              "  Iteration:       2\n",
              "  Minimum:         0.0316458\n",
              "  Minimizer:       [0.0257048, 0.0102361, 0.0439606, …, 0.0512995]\n",
              "  Function calls:  2000\n",
              "  Feasibles:       480 / 1000 in final population\n",
              "  Total time:      33.3373 s\n",
              "  Stop reason:     Maximum objective function calls exceeded.\n"
            ]
          },
          "metadata": {},
          "output_type": "display_data"
        }
      ],
      "source": [
        "# default setup but with (1) bounds from 0-0.09 and\n",
        "# (2) lower failure probability of 5% with higher function evaluations \n",
        "max_evals = 2000\n",
        "\n",
        "function lake_opt(a, y, q, b, T, Xcrit)\n",
        "    X = lake(a, y, q, b, T)\n",
        "    Pexceed = sum(X[T+1, :] .> Xcrit) / size(X, 2) \n",
        "    failconst = [Pexceed - 0.05] # experimenting with failure probability = 0.05\n",
        "    return mean(a), failconst, [0.0]\n",
        "end\n",
        "\n",
        "results = optimize(a -> lake_opt(a, y, q, b, T, Xcrit), bounds, \n",
        "    DE(options=Options(f_calls_limit=max_evals)))\n"
      ]
    },
    {
      "cell_type": "code",
      "execution_count": 68,
      "metadata": {},
      "outputs": [
        {
          "name": "stdout",
          "output_type": "stream",
          "text": [
            "fails = 0\n"
          ]
        }
      ],
      "source": [
        "a = minimizer(results)\n",
        "Xt = lake(a, y, q, b, T)\n",
        "\n",
        "fails = sum(Xt[T+1, :] .> Xcrit)\n",
        "@show fails;"
      ]
    },
    {
      "cell_type": "code",
      "execution_count": 69,
      "metadata": {},
      "outputs": [
        {
          "data": {
            "text/html": [
              "<pre>\n",
              "Optimization Result\n",
              "===================\n",
              "  Iteration:       1\n",
              "  Minimum:         0.0322124\n",
              "  Minimizer:       [0.0577457, 0.0261258, 0.00306537, …, 0.0636815]\n",
              "  Function calls:  1000\n",
              "  Feasibles:       349 / 1000 in final population\n",
              "  Total time:      13.3217 s\n",
              "  Stop reason:     Maximum objective function calls exceeded.\n",
              "</pre>\n"
            ],
            "text/plain": [
              "\u001b[34m\u001b[1mOptimization Result\u001b[22m\u001b[39m\n",
              "\u001b[39m===================\u001b[39m\n",
              "  Iteration:       1\n",
              "  Minimum:         0.0322124\n",
              "  Minimizer:       [0.0577457, 0.0261258, 0.00306537, …, 0.0636815]\n",
              "  Function calls:  1000\n",
              "  Feasibles:       349 / 1000 in final population\n",
              "  Total time:      13.3217 s\n",
              "  Stop reason:     Maximum objective function calls exceeded.\n"
            ]
          },
          "metadata": {},
          "output_type": "display_data"
        }
      ],
      "source": [
        "# default setup but with (1) bounds from 0-0.09 and\n",
        "# (2) doubling the number of Monte Carlo samples while reducing function evaluations\n",
        "max_evals = 800\n",
        "n_samples = 2000\n",
        "\n",
        "function lake_opt(a, y, q, b, T, Xcrit)\n",
        "    X = lake(a, y, q, b, T)\n",
        "    Pexceed = sum(X[T+1, :] .> Xcrit) / size(X, 2) \n",
        "    failconst = [Pexceed - 0.1] # back to failure probability = 0.1\n",
        "    return mean(a), failconst, [0.0]\n",
        "end\n",
        "\n",
        "results = optimize(a -> lake_opt(a, y, q, b, T, Xcrit), bounds, \n",
        "    DE(options=Options(f_calls_limit=max_evals)))\n"
      ]
    },
    {
      "cell_type": "code",
      "execution_count": 70,
      "metadata": {},
      "outputs": [
        {
          "name": "stdout",
          "output_type": "stream",
          "text": [
            "fails = 0\n"
          ]
        }
      ],
      "source": [
        "a = minimizer(results)\n",
        "Xt = lake(a, y, q, b, T)\n",
        "\n",
        "fails = sum(Xt[T+1, :] .> Xcrit)\n",
        "@show fails;"
      ]
    },
    {
      "cell_type": "code",
      "execution_count": 64,
      "metadata": {},
      "outputs": [
        {
          "data": {
            "text/html": [
              "<pre>\n",
              "Optimization Result\n",
              "===================\n",
              "  Iteration:       1\n",
              "  Minimum:         0.0333368\n",
              "  Minimizer:       [0.027823, 0.0105407, 0.0572911, …, 0.0790499]\n",
              "  Function calls:  1000\n",
              "  Feasibles:       347 / 1000 in final population\n",
              "  Total time:      11.0884 s\n",
              "  Stop reason:     Maximum objective function calls exceeded.\n",
              "</pre>\n"
            ],
            "text/plain": [
              "\u001b[34m\u001b[1mOptimization Result\u001b[22m\u001b[39m\n",
              "\u001b[39m===================\u001b[39m\n",
              "  Iteration:       1\n",
              "  Minimum:         0.0333368\n",
              "  Minimizer:       [0.027823, 0.0105407, 0.0572911, …, 0.0790499]\n",
              "  Function calls:  1000\n",
              "  Feasibles:       347 / 1000 in final population\n",
              "  Total time:      11.0884 s\n",
              "  Stop reason:     Maximum objective function calls exceeded.\n"
            ]
          },
          "metadata": {},
          "output_type": "display_data"
        }
      ],
      "source": [
        "# default setup but now changing bounds\n",
        "bounds = [zeros(T) 0.08ones(T)]' # also tried upper bound of 0.1  \n",
        "\n",
        "# back to default values \n",
        "max_evals = 1000\n",
        "n_samples = 1000\n",
        "\n",
        "function lake_opt(a, y, q, b, T, Xcrit)\n",
        "    X = lake(a, y, q, b, T)\n",
        "    Pexceed = sum(X[T+1, :] .> Xcrit) / size(X, 2) \n",
        "    failconst = [Pexceed - 0.1] # back to failure probability = 0.1\n",
        "    return mean(a), failconst, [0.0]\n",
        "end\n",
        "\n",
        "results = optimize(a -> lake_opt(a, y, q, b, T, Xcrit), bounds, \n",
        "    DE(options=Options(f_calls_limit=max_evals)))"
      ]
    },
    {
      "cell_type": "code",
      "execution_count": 66,
      "metadata": {},
      "outputs": [
        {
          "name": "stdout",
          "output_type": "stream",
          "text": [
            "fails = 0\n"
          ]
        }
      ],
      "source": [
        "a = minimizer(results)\n",
        "Xt = lake(a, y, q, b, T)\n",
        "\n",
        "fails = sum(Xt[T+1, :] .> Xcrit)\n",
        "@show fails;"
      ]
    },
    {
      "cell_type": "markdown",
      "metadata": {},
      "source": [
        "ANSWER: I first started with the same setup as in Problem 1, using bounds from 0-0.09, but I experiemnted with a higher failure probability (30%) and a lower failure probability (5%) with 2000 function evaluations (to compenstate for narrower acceptable solution space). In both cases, I got an approximate optimum value of around 0.036 and 0 failures, which is the same result as before. Next, I went back to the default setup, but this time increased the number of Monet Carlo samples by a factor of 2 (reduced the number of function evaluations accordingly for computation time purposes) to see if a wider range of input would result in more feasible solutions and it did, but the approximate optimum value and number of failures is still very similar to before. Lastly, I experimented with changing the bounds. When I increased the upper bound to 0.1, I got 2 feasible solutions, an approximate optimum value of about 0.038, but 32 failures. When I restrict the upper bound to 0.08, I get 347 feasible solutions, an approximate optimum value of about 0.033, but 0 failures. So, there are a few insights we can take from this. First, changing the bounds changed the results most significantly compared to the other parameters I experimented with. Second, when I increased the upper bound, I got a larger approximate optimum value for P release, but there were 32 failures where the inequality constraints were not satisfied. Comparing the results from using an upper bound of 0.09 (from Problem 1), with an upper bound of 0.08, both cases result in 0 failures, but the former setup has an approximate optimum value about 0.036 whereas the latter has an approximate optimum value of about 0.033. This makes sense because when we restrict the bounds, we restrict the range of values from which the algorithm can search for a solution. So, as the upper bound decreases, we get more feasible solutions and 0 failures because we're already forcing P release to be low, which results in the approximate optimum value being lower than it could be if the bounds were relaxed while still maintaining 0 failures. Since we want to maximize P release, because it is a proxy for the town's economic activity, the solution from using an upper bound of 0.09 is preferred becuase it still results in 0 failures while having a larger optimum value."
      ]
    },
    {
      "cell_type": "markdown",
      "id": "5e8171ff-04c2-45d3-a1ec-a6291eecd781",
      "metadata": {},
      "source": [
        "### Problem 3 (3 points)\n",
        "\n",
        "What did you learn about the use of these methods? Compare with your\n",
        "experience with linear programming from earlier in the semester."
      ]
    },
    {
      "cell_type": "markdown",
      "metadata": {},
      "source": [
        "ANSWER: With these methods, the solutions are highly variable depending on how you define the problem and select parameter values. For example, with respect to the difference in results obtained from changing the bounds by 0.01, we get notably different solutions that satisfy the problem constraints, but you need to apply context to understand which solutions are best suited for the problem. As per the quote we discussed in class, \"The optimal solution of a model is not an optimal solution of a problem unless the model is a perfect representation of the problem\", so it is important to formulate the model to fit the problem, and not just to get a solution. Also, increasing the number of evaluations did lead to more feasible solutions, but you have to take into account the computing time when increasing the complexity of the model because you may get a solution, but you have to consider if it's worth the cost. Compared to LPs, simulation-optimization approaches provide more flexibility in the kinds of problems you can solve for becuase you don't have to satisfy the strict linearity requirements that come with using LPs. For problems that are non-linear and more complex, the simulation-optimization approaches would be more suited. However, LPs are more straightforward to use and understand as they are more explicit, whereas the computation and assumptions behind simulation-optimization approaches are not as transparent. Also, LPs provide a more definitive analytic soltuion that is scalable, whereas there is more ambiguity with the simulation-optimization methods because you can't always guarantee a global maximum/minimum.      "
      ]
    },
    {
      "cell_type": "markdown",
      "metadata": {},
      "source": [
        "## References\n",
        "\n",
        "Put any consulted sources here, including classmates you worked with/who\n",
        "helped you.\n",
        "\n",
        "Lectures 5, 15 and 23 slides."
      ]
    }
  ],
  "metadata": {
    "kernelspec": {
      "display_name": "Julia 1.9.2",
      "language": "julia",
      "name": "julia-1.9"
    },
    "language_info": {
      "file_extension": ".jl",
      "mimetype": "application/julia",
      "name": "julia",
      "version": "1.9.2"
    }
  },
  "nbformat": 4,
  "nbformat_minor": 5
}
